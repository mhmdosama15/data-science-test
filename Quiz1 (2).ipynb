{
 "cells": [
  {
   "cell_type": "markdown",
   "id": "a4183b8c-09e2-418e-b8bc-85a476c652db",
   "metadata": {},
   "source": [
    "# Test\n",
    "Mohamad osama \n",
    "mo7amad.osama.29@gmail.com\n",
    "\n",
    "-Question number 1:\n",
    "Import the necessary libraries.\r\n",
    "Create a DataFrame using the given data.\r\n",
    "Display the DataFram\n",
    "e.\r"
   ]
  },
  {
   "cell_type": "code",
   "execution_count": 6,
   "id": "0fc30e03-1d66-4db1-b600-652660fa38db",
   "metadata": {},
   "outputs": [
    {
     "name": "stdout",
     "output_type": "stream",
     "text": [
      "      Name  Age         City\n",
      "0    Alice   24     New York\n",
      "1      Bob   27  Los Angeles\n",
      "2  Charile   22      Chicago\n",
      "3    David   32      Houston\n",
      "4      Eva   29      Phoenix\n"
     ]
    }
   ],
   "source": [
    "import pandas as pd\n",
    "\n",
    "#Creating data \n",
    "data = { 'Name' : ['Alice','Bob','Charile','David','Eva'],\n",
    "          'Age' : [24,27,22,32,29],\n",
    "          'City': ['New York','Los Angeles','Chicago','Houston','Phoenix']}\n",
    "          \n",
    "#Creating the dataframe\n",
    "df = pd.DataFrame(data)\n",
    "\n",
    "# Displaying the DataFrame\n",
    "print(df)\n"
   ]
  },
  {
   "cell_type": "markdown",
   "id": "ee3f4ff7-b207-4f34-9744-3a8b0ba56b64",
   "metadata": {},
   "source": [
    "2. Pandas DataFrame Operations (15 minutes)\r\n",
    "Tasks:\r\n",
    "2.1 Select the 'Name' and 'City' columns and display them.\r\n",
    "2.2 Filter the DataFrame to only include rows where 'Age' is greater than 25 and display\r\n",
    "the result.\r\n",
    "2.3 Sort the DataFrame by 'Age' in ascending order and display the sorted DataFrame.\r\n",
    "2.4 Add a new column 'Age_Group' that categorizes ages into 'Young' (less than 30) and\r\n",
    "'Adult' (30 and above), and display the updated DataFrame."
   ]
  },
  {
   "cell_type": "code",
   "execution_count": 18,
   "id": "d1bba4cc-a86f-4f2e-9e75-fe389a6b5c33",
   "metadata": {},
   "outputs": [
    {
     "name": "stdout",
     "output_type": "stream",
     "text": [
      "      Name         City\n",
      "0    Alice     New York\n",
      "1      Bob  Los Angeles\n",
      "2  Charile      Chicago\n",
      "3    David      Houston\n",
      "4      Eva      Phoenix\n"
     ]
    }
   ],
   "source": [
    "#2.1 (selecting the 'Name' and \"City' and displaying them\n",
    "selected_categorize =df [['Name','City']]\n",
    "print(selected_categorize)"
   ]
  },
  {
   "cell_type": "code",
   "execution_count": 24,
   "id": "22ba8d5a-e05c-440e-befb-c28e8e79961b",
   "metadata": {},
   "outputs": [
    {
     "name": "stdout",
     "output_type": "stream",
     "text": [
      "    Name  Age         City\n",
      "1    Bob   27  Los Angeles\n",
      "3  David   32      Houston\n",
      "4    Eva   29      Phoenix\n"
     ]
    }
   ],
   "source": [
    "#Filter the dataframe amoung the age greater than 25\n",
    "Greater_than_25 = df[df['Age'] > 25]\n",
    "print(Greater_than_25)"
   ]
  },
  {
   "cell_type": "code",
   "execution_count": 32,
   "id": "caf4c332-ee37-4cf3-9b57-902d46b4b2f2",
   "metadata": {},
   "outputs": [
    {
     "name": "stdout",
     "output_type": "stream",
     "text": [
      "      Name  Age         City\n",
      "2  Charile   22      Chicago\n",
      "0    Alice   24     New York\n",
      "1      Bob   27  Los Angeles\n",
      "4      Eva   29      Phoenix\n",
      "3    David   32      Houston\n"
     ]
    }
   ],
   "source": [
    "#Sorting the dataframe in ascending order\n",
    "ascending_order = df.sort_values(by ='Age')\n",
    "print(ascending_order)\n"
   ]
  },
  {
   "cell_type": "code",
   "execution_count": 33,
   "id": "a654878f-f96b-4b6f-b21d-c5496429b0ba",
   "metadata": {},
   "outputs": [
    {
     "name": "stdout",
     "output_type": "stream",
     "text": [
      "      Name  Age         City Age_Group\n",
      "0    Alice   24     New York     Young\n",
      "1      Bob   27  Los Angeles     Young\n",
      "2  Charile   22      Chicago     Young\n",
      "3    David   32      Houston     Adult\n",
      "4      Eva   29      Phoenix     Young\n"
     ]
    }
   ],
   "source": [
    "#adding a new coloumn'Age_group' in 'young'(less than 30),and 'Adult'(30 and above)\n",
    "\n",
    "\n",
    "def categorize_age(age):\n",
    "    if age < 30:\n",
    "        return 'Young'\n",
    "    else:\n",
    "        return 'Adult'\n",
    "\n",
    "#Function\n",
    "df['Age_Group'] = df['Age'].apply(categorize_age)\n",
    "print(df)\n"
   ]
  },
  {
   "cell_type": "markdown",
   "id": "065a49a2-1bb4-4e89-af2c-e00411746253",
   "metadata": {},
   "source": [
    "3. Data Structures: Lists and Dictionaries (10 minutes)\n",
    "Tasks:\n",
    "3.1 Create a list of new ages: [25, 28, 23, 33, 30]. Update the 'Age' column in the\n",
    "DataFrame with these new ages and display the updated DataFrame.\n",
    "3.2 Create a dictionary mapping names to new cities: {'Alice': 'San Francisco', 'Bob':\n",
    "'Seattle', 'Charlie': 'Austin', 'David': 'Dallas', 'Eva': 'Miami'}. Update the 'City' column\n",
    "using this dictionary and display the updated DataFrame."
   ]
  },
  {
   "cell_type": "code",
   "execution_count": 34,
   "id": "b4b2dae2-d124-4bfb-86d6-94871263989a",
   "metadata": {},
   "outputs": [
    {
     "name": "stdout",
     "output_type": "stream",
     "text": [
      "Updated ages:\n",
      "      Name  Age         City\n",
      "0    Alice   25     New York\n",
      "1      Bob   28  Los Angeles\n",
      "2  Charlie   23      Chicago\n",
      "3    David   33      Houston\n",
      "4      Eva   30      Phoenix\n",
      "      Name  Age           City\n",
      "0    Alice   25  San Francisco\n",
      "1      Bob   28        Seattle\n",
      "2  Charlie   23         Austin\n",
      "3    David   33         Dallas\n",
      "4      Eva   30          Miami\n"
     ]
    }
   ],
   "source": [
    "import pandas as pd\n",
    "\n",
    "#dataframe \n",
    "data = {\n",
    "    'Name': ['Alice', 'Bob', 'Charlie', 'David', 'Eva'],\n",
    "    'Age': [24, 27, 22, 32, 29],  \n",
    "    'City': ['New York', 'Los Angeles', 'Chicago', 'Houston', 'Phoenix']  \n",
    "}\n",
    "df = pd.DataFrame(data)\n",
    "\n",
    "\n",
    "new_ages = [25, 28, 23, 33, 30]\n",
    "\n",
    "# Updating the age scheme \n",
    "df['Age'] = new_ages\n",
    "\n",
    "\n",
    "print(\"Updated ages:\")\n",
    "print(df)\n",
    "\n",
    "#3.2\n",
    "New_cities = {'Alice': 'San Francisco', 'Bob':\n",
    "'Seattle', 'Charlie': 'Austin', 'David': 'Dallas', 'Eva': 'Miami'}\n",
    "#Updating\n",
    "df['City'] = df['Name'].map(New_cities)\n",
    "\n",
    "print(df)\n"
   ]
  },
  {
   "cell_type": "markdown",
   "id": "6a0e5e0f-984e-49e7-afd6-3e170e253265",
   "metadata": {},
   "source": [
    "4. Control Flow: Loops and Conditionals (10 minutes)\n",
    "Tasks:\n",
    "4.1 Use a for loop to print the name and age of each person in the DataFrame.\n",
    "4.2 Write a function to categorize ages into 'Youth' (less than 30) and 'Adult' (30 and\n",
    "above). Apply this function to create a new column 'Category' in the DataFrame and\n",
    "display the updated DataFrame."
   ]
  },
  {
   "cell_type": "code",
   "execution_count": null,
   "id": "08808466-d66a-44ea-b220-e3f7b315b929",
   "metadata": {},
   "outputs": [],
   "source": [
    "#4.1 \n",
    "\n",
    "#4.2 \n",
    "# Define the function to categorize age\n",
    "def categorize_age(age):\n",
    "    if age < 30:\n",
    "        return 'Youth'\n",
    "    else:\n",
    "        return 'Adult'\n",
    "\n",
    "\n",
    "\n"
   ]
  }
 ],
 "metadata": {
  "kernelspec": {
   "display_name": "Python 3 (ipykernel)",
   "language": "python",
   "name": "python3"
  },
  "language_info": {
   "codemirror_mode": {
    "name": "ipython",
    "version": 3
   },
   "file_extension": ".py",
   "mimetype": "text/x-python",
   "name": "python",
   "nbconvert_exporter": "python",
   "pygments_lexer": "ipython3",
   "version": "3.11.7"
  }
 },
 "nbformat": 4,
 "nbformat_minor": 5
}
